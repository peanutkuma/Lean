{
 "cells": [
  {
   "cell_type": "code",
   "execution_count": 1,
   "id": "accompanied-palace",
   "metadata": {},
   "outputs": [
    {
     "name": "stdout",
     "output_type": "stream",
     "text": [
      "True\n"
     ]
    }
   ],
   "source": [
    "# QuantConnect Imports\n",
    "%load_ext autoreload\n",
    "%autoreload 2\n",
    "\n",
    "from clr import AddReference\n",
    "AddReference(\"System\")\n",
    "AddReference('System.Memory')\n",
    "AddReference(\"QuantConnect.Algorithm\")\n",
    "AddReference(\"QuantConnect.Api\")\n",
    "AddReference(\"QuantConnect.Common\")\n",
    "AddReference(\"QuantConnect.Configuration\")\n",
    "AddReference(\"QuantConnect.Research\")\n",
    "AddReference(\"QuantConnect.Indicators\")\n",
    "\n",
    "from System import *\n",
    "from QuantConnect import *\n",
    "from QuantConnect.Algorithm import * \n",
    "# instead use this AAPI \n",
    "# from QuantConnect.Api import * \n",
    "from quantconnect.api import Api\n",
    "from QuantConnect.Configuration import *\n",
    "from QuantConnect.Data import *\n",
    "from QuantConnect.Data.Market import TradeBar, QuoteBar\n",
    "from QuantConnect.Research import *\n",
    "from QuantConnect.Indicators import *\n",
    "\n",
    "import datetime \n",
    "import matplotlib.pyplot as plt\n",
    "import pandas as pd\n",
    "\n",
    "# PT imports \n",
    "import numpy as np \n",
    "import matplotlib.pylab as plt \n",
    "from my_utils import *  # my rolling window , mk_momentum etc. \n",
    "import scipy as sp \n",
    "\n",
    "# ipython debugger. set breakpoint with `dbg.set_trace()` \n",
    "import IPython.core.debugger as dbg\n",
    "\n",
    "# execute this to connect to QuantConnect API \n",
    "api = Api(94240, \"f9683aa5c308894f2238228a5f3545badd2e4b11526685cee58bb1cecf7e9f30\")\n",
    "# api.Initialize(\n",
    "#     Config.GetInt(\"job-user-id\",94240 ), \n",
    "#     Config.Get(\"api-access-token\", \"f9683aa5c308894f2238228a5f3545badd2e4b11526685cee58bb1cecf7e9f30\"),\n",
    "#     Config.Get(\"data-folder\"))\n",
    "# print(api.Connected)\n",
    "print(api.connected())\n",
    "\n",
    "# Create an quantBook instance\n",
    "qb = QuantBook()"
   ]
  },
  {
   "cell_type": "code",
   "execution_count": 2,
   "id": "dated-sheriff",
   "metadata": {},
   "outputs": [],
   "source": [
    "eth = qb.AddCrypto(\"ETHEUR\").Symbol"
   ]
  },
  {
   "cell_type": "code",
   "execution_count": 5,
   "id": "silent-assurance",
   "metadata": {},
   "outputs": [],
   "source": [
    "cstream = CryptoStream(Config.Get(\"data-folder\"))\n"
   ]
  },
  {
   "cell_type": "code",
   "execution_count": 6,
   "id": "allied-astrology",
   "metadata": {},
   "outputs": [
    {
     "data": {
      "text/plain": [
       "<my_utils.CryptoStream at 0x7f96123a8630>"
      ]
     },
     "execution_count": 6,
     "metadata": {},
     "output_type": "execute_result"
    }
   ],
   "source": [
    "cstream"
   ]
  },
  {
   "cell_type": "code",
   "execution_count": 1,
   "id": "developed-backing",
   "metadata": {},
   "outputs": [
    {
     "ename": "AttributeError",
     "evalue": "module 'decimal' has no attribute 'ROUND_HALF_EVEN'",
     "output_type": "error",
     "traceback": [
      "\u001b[0;31m---------------------------------------------------------------------------\u001b[0m",
      "\u001b[0;31mAttributeError\u001b[0m                            Traceback (most recent call last)",
      "\u001b[0;32m<ipython-input-1-f60475132baf>\u001b[0m in \u001b[0;36m<module>\u001b[0;34m\u001b[0m\n\u001b[0;32m----> 1\u001b[0;31m \u001b[0;32mimport\u001b[0m \u001b[0mcbpro\u001b[0m\u001b[0;34m\u001b[0m\u001b[0;34m\u001b[0m\u001b[0m\n\u001b[0m\u001b[1;32m      2\u001b[0m \u001b[0mpublic_client\u001b[0m \u001b[0;34m=\u001b[0m \u001b[0mcbpro\u001b[0m\u001b[0;34m.\u001b[0m\u001b[0mPublicClient\u001b[0m\u001b[0;34m(\u001b[0m\u001b[0;34m)\u001b[0m\u001b[0;34m\u001b[0m\u001b[0;34m\u001b[0m\u001b[0m\n",
      "\u001b[0;32m/opt/miniconda3/lib/python3.6/site-packages/cbpro/__init__.py\u001b[0m in \u001b[0;36m<module>\u001b[0;34m\u001b[0m\n\u001b[1;32m      1\u001b[0m \u001b[0;32mfrom\u001b[0m \u001b[0mcbpro\u001b[0m\u001b[0;34m.\u001b[0m\u001b[0mauthenticated_client\u001b[0m \u001b[0;32mimport\u001b[0m \u001b[0mAuthenticatedClient\u001b[0m\u001b[0;34m\u001b[0m\u001b[0;34m\u001b[0m\u001b[0m\n\u001b[1;32m      2\u001b[0m \u001b[0;32mfrom\u001b[0m \u001b[0mcbpro\u001b[0m\u001b[0;34m.\u001b[0m\u001b[0mpublic_client\u001b[0m \u001b[0;32mimport\u001b[0m \u001b[0mPublicClient\u001b[0m\u001b[0;34m\u001b[0m\u001b[0;34m\u001b[0m\u001b[0m\n\u001b[0;32m----> 3\u001b[0;31m \u001b[0;32mfrom\u001b[0m \u001b[0mcbpro\u001b[0m\u001b[0;34m.\u001b[0m\u001b[0mwebsocket_client\u001b[0m \u001b[0;32mimport\u001b[0m \u001b[0mWebsocketClient\u001b[0m\u001b[0;34m\u001b[0m\u001b[0;34m\u001b[0m\u001b[0m\n\u001b[0m\u001b[1;32m      4\u001b[0m \u001b[0;32mfrom\u001b[0m \u001b[0mcbpro\u001b[0m\u001b[0;34m.\u001b[0m\u001b[0morder_book\u001b[0m \u001b[0;32mimport\u001b[0m \u001b[0mOrderBook\u001b[0m\u001b[0;34m\u001b[0m\u001b[0;34m\u001b[0m\u001b[0m\n\u001b[1;32m      5\u001b[0m \u001b[0;32mfrom\u001b[0m \u001b[0mcbpro\u001b[0m\u001b[0;34m.\u001b[0m\u001b[0mcbpro_auth\u001b[0m \u001b[0;32mimport\u001b[0m \u001b[0mCBProAuth\u001b[0m\u001b[0;34m\u001b[0m\u001b[0;34m\u001b[0m\u001b[0m\n",
      "\u001b[0;32m/opt/miniconda3/lib/python3.6/site-packages/cbpro/websocket_client.py\u001b[0m in \u001b[0;36m<module>\u001b[0;34m\u001b[0m\n\u001b[1;32m     14\u001b[0m \u001b[0;32mfrom\u001b[0m \u001b[0mthreading\u001b[0m \u001b[0;32mimport\u001b[0m \u001b[0mThread\u001b[0m\u001b[0;34m\u001b[0m\u001b[0;34m\u001b[0m\u001b[0m\n\u001b[1;32m     15\u001b[0m \u001b[0;32mfrom\u001b[0m \u001b[0mwebsocket\u001b[0m \u001b[0;32mimport\u001b[0m \u001b[0mcreate_connection\u001b[0m\u001b[0;34m,\u001b[0m \u001b[0mWebSocketConnectionClosedException\u001b[0m\u001b[0;34m\u001b[0m\u001b[0;34m\u001b[0m\u001b[0m\n\u001b[0;32m---> 16\u001b[0;31m \u001b[0;32mfrom\u001b[0m \u001b[0mpymongo\u001b[0m \u001b[0;32mimport\u001b[0m \u001b[0mMongoClient\u001b[0m\u001b[0;34m\u001b[0m\u001b[0;34m\u001b[0m\u001b[0m\n\u001b[0m\u001b[1;32m     17\u001b[0m \u001b[0;32mfrom\u001b[0m \u001b[0mcbpro\u001b[0m\u001b[0;34m.\u001b[0m\u001b[0mcbpro_auth\u001b[0m \u001b[0;32mimport\u001b[0m \u001b[0mget_auth_headers\u001b[0m\u001b[0;34m\u001b[0m\u001b[0;34m\u001b[0m\u001b[0m\n\u001b[1;32m     18\u001b[0m \u001b[0;34m\u001b[0m\u001b[0m\n",
      "\u001b[0;32m/opt/miniconda3/lib/python3.6/site-packages/pymongo/__init__.py\u001b[0m in \u001b[0;36m<module>\u001b[0;34m\u001b[0m\n\u001b[1;32m     81\u001b[0m \u001b[0;34m\"\"\"Current version of PyMongo.\"\"\"\u001b[0m\u001b[0;34m\u001b[0m\u001b[0;34m\u001b[0m\u001b[0m\n\u001b[1;32m     82\u001b[0m \u001b[0;34m\u001b[0m\u001b[0m\n\u001b[0;32m---> 83\u001b[0;31m \u001b[0;32mfrom\u001b[0m \u001b[0mpymongo\u001b[0m\u001b[0;34m.\u001b[0m\u001b[0mcollection\u001b[0m \u001b[0;32mimport\u001b[0m \u001b[0mReturnDocument\u001b[0m\u001b[0;34m\u001b[0m\u001b[0;34m\u001b[0m\u001b[0m\n\u001b[0m\u001b[1;32m     84\u001b[0m from pymongo.common import (MIN_SUPPORTED_WIRE_VERSION,\n\u001b[1;32m     85\u001b[0m                             MAX_SUPPORTED_WIRE_VERSION)\n",
      "\u001b[0;32m/opt/miniconda3/lib/python3.6/site-packages/pymongo/collection.py\u001b[0m in \u001b[0;36m<module>\u001b[0;34m\u001b[0m\n\u001b[1;32m     19\u001b[0m \u001b[0;32mimport\u001b[0m \u001b[0mwarnings\u001b[0m\u001b[0;34m\u001b[0m\u001b[0;34m\u001b[0m\u001b[0m\n\u001b[1;32m     20\u001b[0m \u001b[0;34m\u001b[0m\u001b[0m\n\u001b[0;32m---> 21\u001b[0;31m \u001b[0;32mfrom\u001b[0m \u001b[0mbson\u001b[0m\u001b[0;34m.\u001b[0m\u001b[0mcode\u001b[0m \u001b[0;32mimport\u001b[0m \u001b[0mCode\u001b[0m\u001b[0;34m\u001b[0m\u001b[0;34m\u001b[0m\u001b[0m\n\u001b[0m\u001b[1;32m     22\u001b[0m \u001b[0;32mfrom\u001b[0m \u001b[0mbson\u001b[0m\u001b[0;34m.\u001b[0m\u001b[0mobjectid\u001b[0m \u001b[0;32mimport\u001b[0m \u001b[0mObjectId\u001b[0m\u001b[0;34m\u001b[0m\u001b[0;34m\u001b[0m\u001b[0m\n\u001b[1;32m     23\u001b[0m from bson.py3compat import (_unicode,\n",
      "\u001b[0;32m/opt/miniconda3/lib/python3.6/site-packages/bson/__init__.py\u001b[0m in \u001b[0;36m<module>\u001b[0;34m\u001b[0m\n\u001b[1;32m     35\u001b[0m     CodecOptions, DEFAULT_CODEC_OPTIONS, _raw_document_class)\n\u001b[1;32m     36\u001b[0m \u001b[0;32mfrom\u001b[0m \u001b[0mbson\u001b[0m\u001b[0;34m.\u001b[0m\u001b[0mdbref\u001b[0m \u001b[0;32mimport\u001b[0m \u001b[0mDBRef\u001b[0m\u001b[0;34m\u001b[0m\u001b[0;34m\u001b[0m\u001b[0m\n\u001b[0;32m---> 37\u001b[0;31m \u001b[0;32mfrom\u001b[0m \u001b[0mbson\u001b[0m\u001b[0;34m.\u001b[0m\u001b[0mdecimal128\u001b[0m \u001b[0;32mimport\u001b[0m \u001b[0mDecimal128\u001b[0m\u001b[0;34m\u001b[0m\u001b[0;34m\u001b[0m\u001b[0m\n\u001b[0m\u001b[1;32m     38\u001b[0m from bson.errors import (InvalidBSON,\n\u001b[1;32m     39\u001b[0m                          \u001b[0mInvalidDocument\u001b[0m\u001b[0;34m,\u001b[0m\u001b[0;34m\u001b[0m\u001b[0;34m\u001b[0m\u001b[0m\n",
      "\u001b[0;32m/opt/miniconda3/lib/python3.6/site-packages/bson/decimal128.py\u001b[0m in \u001b[0;36m<module>\u001b[0;34m\u001b[0m\n\u001b[1;32m     75\u001b[0m _CTX_OPTIONS = {\n\u001b[1;32m     76\u001b[0m     \u001b[0;34m'prec'\u001b[0m\u001b[0;34m:\u001b[0m \u001b[0m_MAX_DIGITS\u001b[0m\u001b[0;34m,\u001b[0m\u001b[0;34m\u001b[0m\u001b[0;34m\u001b[0m\u001b[0m\n\u001b[0;32m---> 77\u001b[0;31m     \u001b[0;34m'rounding'\u001b[0m\u001b[0;34m:\u001b[0m \u001b[0mdecimal\u001b[0m\u001b[0;34m.\u001b[0m\u001b[0mROUND_HALF_EVEN\u001b[0m\u001b[0;34m,\u001b[0m\u001b[0;34m\u001b[0m\u001b[0;34m\u001b[0m\u001b[0m\n\u001b[0m\u001b[1;32m     78\u001b[0m     \u001b[0;34m'Emin'\u001b[0m\u001b[0;34m:\u001b[0m \u001b[0m_EXPONENT_MIN\u001b[0m\u001b[0;34m,\u001b[0m\u001b[0;34m\u001b[0m\u001b[0;34m\u001b[0m\u001b[0m\n\u001b[1;32m     79\u001b[0m     \u001b[0;34m'Emax'\u001b[0m\u001b[0;34m:\u001b[0m \u001b[0m_EXPONENT_MAX\u001b[0m\u001b[0;34m,\u001b[0m\u001b[0;34m\u001b[0m\u001b[0;34m\u001b[0m\u001b[0m\n",
      "\u001b[0;31mAttributeError\u001b[0m: module 'decimal' has no attribute 'ROUND_HALF_EVEN'"
     ]
    }
   ],
   "source": [
    "import cbpro\n",
    "public_client = cbpro.PublicClient()"
   ]
  },
  {
   "cell_type": "code",
   "execution_count": null,
   "id": "happy-wrestling",
   "metadata": {},
   "outputs": [],
   "source": []
  },
  {
   "cell_type": "code",
   "execution_count": null,
   "id": "divided-breach",
   "metadata": {},
   "outputs": [],
   "source": []
  },
  {
   "cell_type": "code",
   "execution_count": null,
   "id": "serial-nylon",
   "metadata": {},
   "outputs": [],
   "source": []
  }
 ],
 "metadata": {
  "kernelspec": {
   "display_name": "Python 3",
   "language": "python",
   "name": "python3"
  },
  "language_info": {
   "codemirror_mode": {
    "name": "ipython",
    "version": 3
   },
   "file_extension": ".py",
   "mimetype": "text/x-python",
   "name": "python",
   "nbconvert_exporter": "python",
   "pygments_lexer": "ipython3",
   "version": "3.6.8"
  }
 },
 "nbformat": 4,
 "nbformat_minor": 5
}
