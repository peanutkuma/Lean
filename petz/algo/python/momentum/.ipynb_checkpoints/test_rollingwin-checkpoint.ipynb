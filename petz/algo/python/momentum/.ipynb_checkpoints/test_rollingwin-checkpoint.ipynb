{
 "cells": [
  {
   "cell_type": "markdown",
   "metadata": {},
   "source": [
    "![QuantConnect Logo](https://cdn.quantconnect.com/web/i/icon.png)\n",
    "<hr>"
   ]
  },
  {
   "cell_type": "code",
   "execution_count": 125,
   "metadata": {},
   "outputs": [
    {
     "name": "stdout",
     "output_type": "stream",
     "text": [
      "The autoreload extension is already loaded. To reload it, use:\n",
      "  %reload_ext autoreload\n",
      "True\n"
     ]
    }
   ],
   "source": [
    "# QuantConnect Imports\n",
    "%load_ext autoreload\n",
    "%autoreload 2\n",
    "\n",
    "from clr import AddReference\n",
    "AddReference(\"System\")\n",
    "AddReference('System.Memory')\n",
    "AddReference(\"QuantConnect.Algorithm\")\n",
    "AddReference(\"QuantConnect.Api\")\n",
    "AddReference(\"QuantConnect.Common\")\n",
    "AddReference(\"QuantConnect.Configuration\")\n",
    "AddReference(\"QuantConnect.Research\")\n",
    "AddReference(\"QuantConnect.Indicators\")\n",
    "\n",
    "from System import *\n",
    "from QuantConnect import *\n",
    "from QuantConnect.Algorithm import * \n",
    "from QuantConnect.Api import *\n",
    "from QuantConnect.Configuration import *\n",
    "from QuantConnect.Data import *\n",
    "from QuantConnect.Data.Market import TradeBar, QuoteBar\n",
    "from QuantConnect.Research import *\n",
    "from QuantConnect.Indicators import *\n",
    "\n",
    "from datetime import datetime, timedelta\n",
    "import matplotlib.pyplot as plt\n",
    "import pandas as pd\n",
    "\n",
    "# PT imports \n",
    "import numpy as np \n",
    "import matplotlib.pylab as plt \n",
    "from rolling_win import * \n",
    "\n",
    "# ipython debugger. set breakpoint with `dbg.set_trace()` \n",
    "import IPython.core.debugger as dbg\n",
    "\n",
    "# execute this to connect to QuantConnect API \n",
    "api = Api()\n",
    "api.Initialize(\n",
    "    Config.GetInt(\"job-user-id\", 94240), \n",
    "    Config.Get(\"api-access-token\", \"f9683aa5c308894f2238228a5f3545badd2e4b11526685cee58bb1cecf7e9f30\"),\n",
    "    Config.Get(\"data-folder\"))\n",
    "print(api.Connected)\n",
    "\n",
    "\n",
    "# Create an quantBook instance\n",
    "qb = QuantBook()\n"
   ]
  },
  {
   "cell_type": "code",
   "execution_count": 41,
   "metadata": {},
   "outputs": [
    {
     "name": "stdout",
     "output_type": "stream",
     "text": [
      "True\n"
     ]
    }
   ],
   "source": []
  },
  {
   "cell_type": "code",
   "execution_count": 117,
   "metadata": {},
   "outputs": [
    {
     "ename": "KeyError",
     "evalue": "'ETHEUR 2T'",
     "output_type": "error",
     "traceback": [
      "\u001b[0;31m---------------------------------------------------------------------------\u001b[0m",
      "\u001b[0;31mKeyError\u001b[0m                                  Traceback (most recent call last)",
      "\u001b[0;32m/opt/miniconda3/lib/python3.6/site-packages/pandas/core/indexes/base.py\u001b[0m in \u001b[0;36mget_loc\u001b[0;34m(self, key, method, tolerance)\u001b[0m\n\u001b[1;32m   2896\u001b[0m             \u001b[0;32mtry\u001b[0m\u001b[0;34m:\u001b[0m\u001b[0;34m\u001b[0m\u001b[0;34m\u001b[0m\u001b[0m\n\u001b[0;32m-> 2897\u001b[0;31m                 \u001b[0;32mreturn\u001b[0m \u001b[0mself\u001b[0m\u001b[0;34m.\u001b[0m\u001b[0m_engine\u001b[0m\u001b[0;34m.\u001b[0m\u001b[0mget_loc\u001b[0m\u001b[0;34m(\u001b[0m\u001b[0mkey\u001b[0m\u001b[0;34m)\u001b[0m\u001b[0;34m\u001b[0m\u001b[0;34m\u001b[0m\u001b[0m\n\u001b[0m\u001b[1;32m   2898\u001b[0m             \u001b[0;32mexcept\u001b[0m \u001b[0mKeyError\u001b[0m\u001b[0;34m:\u001b[0m\u001b[0;34m\u001b[0m\u001b[0;34m\u001b[0m\u001b[0m\n",
      "\u001b[0;32mpandas/_libs/index.pyx\u001b[0m in \u001b[0;36mpandas._libs.index.IndexEngine.get_loc\u001b[0;34m()\u001b[0m\n",
      "\u001b[0;32mpandas/_libs/index.pyx\u001b[0m in \u001b[0;36mpandas._libs.index.IndexEngine.get_loc\u001b[0;34m()\u001b[0m\n",
      "\u001b[0;32mpandas/_libs/hashtable_class_helper.pxi\u001b[0m in \u001b[0;36mpandas._libs.hashtable.PyObjectHashTable.get_item\u001b[0;34m()\u001b[0m\n",
      "\u001b[0;32mpandas/_libs/hashtable_class_helper.pxi\u001b[0m in \u001b[0;36mpandas._libs.hashtable.PyObjectHashTable.get_item\u001b[0;34m()\u001b[0m\n",
      "\u001b[0;31mKeyError\u001b[0m: 'ETHEUR 2T'",
      "\nDuring handling of the above exception, another exception occurred:\n",
      "\u001b[0;31mKeyError\u001b[0m                                  Traceback (most recent call last)",
      "\u001b[0;32m<ipython-input-117-1e71fd165684>\u001b[0m in \u001b[0;36m<module>\u001b[0;34m\u001b[0m\n\u001b[1;32m     13\u001b[0m \u001b[0mggl_df\u001b[0m \u001b[0;34m=\u001b[0m \u001b[0mhistory\u001b[0m\u001b[0;34m.\u001b[0m\u001b[0mloc\u001b[0m\u001b[0;34m[\u001b[0m\u001b[0mggl\u001b[0m\u001b[0;34m.\u001b[0m\u001b[0mSymbol\u001b[0m\u001b[0;34m]\u001b[0m\u001b[0;34m\u001b[0m\u001b[0;34m\u001b[0m\u001b[0m\n\u001b[1;32m     14\u001b[0m \u001b[0mspy_df\u001b[0m \u001b[0;34m=\u001b[0m \u001b[0mhistory\u001b[0m\u001b[0;34m.\u001b[0m\u001b[0mloc\u001b[0m\u001b[0;34m[\u001b[0m\u001b[0mspy\u001b[0m\u001b[0;34m.\u001b[0m\u001b[0mSymbol\u001b[0m\u001b[0;34m]\u001b[0m\u001b[0;34m\u001b[0m\u001b[0;34m\u001b[0m\u001b[0m\n\u001b[0;32m---> 15\u001b[0;31m \u001b[0meth_df\u001b[0m \u001b[0;34m=\u001b[0m \u001b[0mhistory\u001b[0m\u001b[0;34m.\u001b[0m\u001b[0mloc\u001b[0m\u001b[0;34m[\u001b[0m\u001b[0meth\u001b[0m\u001b[0;34m.\u001b[0m\u001b[0mSymbol\u001b[0m\u001b[0;34m]\u001b[0m\u001b[0;34m\u001b[0m\u001b[0;34m\u001b[0m\u001b[0m\n\u001b[0m",
      "\u001b[0;32mnone\u001b[0m in \u001b[0;36mg\u001b[0;34m(*args, **kwargs)\u001b[0m\n",
      "\u001b[0;32m/opt/miniconda3/lib/python3.6/site-packages/pandas/core/indexing.py\u001b[0m in \u001b[0;36m__getitem__\u001b[0;34m(self, key)\u001b[0m\n\u001b[1;32m   1422\u001b[0m \u001b[0;34m\u001b[0m\u001b[0m\n\u001b[1;32m   1423\u001b[0m             \u001b[0mmaybe_callable\u001b[0m \u001b[0;34m=\u001b[0m \u001b[0mcom\u001b[0m\u001b[0;34m.\u001b[0m\u001b[0mapply_if_callable\u001b[0m\u001b[0;34m(\u001b[0m\u001b[0mkey\u001b[0m\u001b[0;34m,\u001b[0m \u001b[0mself\u001b[0m\u001b[0;34m.\u001b[0m\u001b[0mobj\u001b[0m\u001b[0;34m)\u001b[0m\u001b[0;34m\u001b[0m\u001b[0;34m\u001b[0m\u001b[0m\n\u001b[0;32m-> 1424\u001b[0;31m             \u001b[0;32mreturn\u001b[0m \u001b[0mself\u001b[0m\u001b[0;34m.\u001b[0m\u001b[0m_getitem_axis\u001b[0m\u001b[0;34m(\u001b[0m\u001b[0mmaybe_callable\u001b[0m\u001b[0;34m,\u001b[0m \u001b[0maxis\u001b[0m\u001b[0;34m=\u001b[0m\u001b[0maxis\u001b[0m\u001b[0;34m)\u001b[0m\u001b[0;34m\u001b[0m\u001b[0;34m\u001b[0m\u001b[0m\n\u001b[0m\u001b[1;32m   1425\u001b[0m \u001b[0;34m\u001b[0m\u001b[0m\n\u001b[1;32m   1426\u001b[0m     \u001b[0;32mdef\u001b[0m \u001b[0m_is_scalar_access\u001b[0m\u001b[0;34m(\u001b[0m\u001b[0mself\u001b[0m\u001b[0;34m,\u001b[0m \u001b[0mkey\u001b[0m\u001b[0;34m:\u001b[0m \u001b[0mTuple\u001b[0m\u001b[0;34m)\u001b[0m\u001b[0;34m:\u001b[0m\u001b[0;34m\u001b[0m\u001b[0;34m\u001b[0m\u001b[0m\n",
      "\u001b[0;32m/opt/miniconda3/lib/python3.6/site-packages/pandas/core/indexing.py\u001b[0m in \u001b[0;36m_getitem_axis\u001b[0;34m(self, key, axis)\u001b[0m\n\u001b[1;32m   1848\u001b[0m         \u001b[0;31m# fall thru to straight lookup\u001b[0m\u001b[0;34m\u001b[0m\u001b[0;34m\u001b[0m\u001b[0;34m\u001b[0m\u001b[0m\n\u001b[1;32m   1849\u001b[0m         \u001b[0mself\u001b[0m\u001b[0;34m.\u001b[0m\u001b[0m_validate_key\u001b[0m\u001b[0;34m(\u001b[0m\u001b[0mkey\u001b[0m\u001b[0;34m,\u001b[0m \u001b[0maxis\u001b[0m\u001b[0;34m)\u001b[0m\u001b[0;34m\u001b[0m\u001b[0;34m\u001b[0m\u001b[0m\n\u001b[0;32m-> 1850\u001b[0;31m         \u001b[0;32mreturn\u001b[0m \u001b[0mself\u001b[0m\u001b[0;34m.\u001b[0m\u001b[0m_get_label\u001b[0m\u001b[0;34m(\u001b[0m\u001b[0mkey\u001b[0m\u001b[0;34m,\u001b[0m \u001b[0maxis\u001b[0m\u001b[0;34m=\u001b[0m\u001b[0maxis\u001b[0m\u001b[0;34m)\u001b[0m\u001b[0;34m\u001b[0m\u001b[0;34m\u001b[0m\u001b[0m\n\u001b[0m\u001b[1;32m   1851\u001b[0m \u001b[0;34m\u001b[0m\u001b[0m\n\u001b[1;32m   1852\u001b[0m \u001b[0;34m\u001b[0m\u001b[0m\n",
      "\u001b[0;32m/opt/miniconda3/lib/python3.6/site-packages/pandas/core/indexing.py\u001b[0m in \u001b[0;36m_get_label\u001b[0;34m(self, label, axis)\u001b[0m\n\u001b[1;32m    158\u001b[0m             \u001b[0;32mraise\u001b[0m \u001b[0mIndexingError\u001b[0m\u001b[0;34m(\u001b[0m\u001b[0;34m\"no slices here, handle elsewhere\"\u001b[0m\u001b[0;34m)\u001b[0m\u001b[0;34m\u001b[0m\u001b[0;34m\u001b[0m\u001b[0m\n\u001b[1;32m    159\u001b[0m \u001b[0;34m\u001b[0m\u001b[0m\n\u001b[0;32m--> 160\u001b[0;31m         \u001b[0;32mreturn\u001b[0m \u001b[0mself\u001b[0m\u001b[0;34m.\u001b[0m\u001b[0mobj\u001b[0m\u001b[0;34m.\u001b[0m\u001b[0m_xs\u001b[0m\u001b[0;34m(\u001b[0m\u001b[0mlabel\u001b[0m\u001b[0;34m,\u001b[0m \u001b[0maxis\u001b[0m\u001b[0;34m=\u001b[0m\u001b[0maxis\u001b[0m\u001b[0;34m)\u001b[0m\u001b[0;34m\u001b[0m\u001b[0;34m\u001b[0m\u001b[0m\n\u001b[0m\u001b[1;32m    161\u001b[0m \u001b[0;34m\u001b[0m\u001b[0m\n\u001b[1;32m    162\u001b[0m     \u001b[0;32mdef\u001b[0m \u001b[0m_get_loc\u001b[0m\u001b[0;34m(\u001b[0m\u001b[0mself\u001b[0m\u001b[0;34m,\u001b[0m \u001b[0mkey\u001b[0m\u001b[0;34m:\u001b[0m \u001b[0mint\u001b[0m\u001b[0;34m,\u001b[0m \u001b[0maxis\u001b[0m\u001b[0;34m:\u001b[0m \u001b[0mint\u001b[0m\u001b[0;34m)\u001b[0m\u001b[0;34m:\u001b[0m\u001b[0;34m\u001b[0m\u001b[0;34m\u001b[0m\u001b[0m\n",
      "\u001b[0;32m/opt/miniconda3/lib/python3.6/site-packages/pandas/core/generic.py\u001b[0m in \u001b[0;36mxs\u001b[0;34m(self, key, axis, level, drop_level)\u001b[0m\n\u001b[1;32m   3733\u001b[0m         \u001b[0mindex\u001b[0m \u001b[0;34m=\u001b[0m \u001b[0mself\u001b[0m\u001b[0;34m.\u001b[0m\u001b[0mindex\u001b[0m\u001b[0;34m\u001b[0m\u001b[0;34m\u001b[0m\u001b[0m\n\u001b[1;32m   3734\u001b[0m         \u001b[0;32mif\u001b[0m \u001b[0misinstance\u001b[0m\u001b[0;34m(\u001b[0m\u001b[0mindex\u001b[0m\u001b[0;34m,\u001b[0m \u001b[0mMultiIndex\u001b[0m\u001b[0;34m)\u001b[0m\u001b[0;34m:\u001b[0m\u001b[0;34m\u001b[0m\u001b[0;34m\u001b[0m\u001b[0m\n\u001b[0;32m-> 3735\u001b[0;31m             \u001b[0mloc\u001b[0m\u001b[0;34m,\u001b[0m \u001b[0mnew_index\u001b[0m \u001b[0;34m=\u001b[0m \u001b[0mself\u001b[0m\u001b[0;34m.\u001b[0m\u001b[0mindex\u001b[0m\u001b[0;34m.\u001b[0m\u001b[0mget_loc_level\u001b[0m\u001b[0;34m(\u001b[0m\u001b[0mkey\u001b[0m\u001b[0;34m,\u001b[0m \u001b[0mdrop_level\u001b[0m\u001b[0;34m=\u001b[0m\u001b[0mdrop_level\u001b[0m\u001b[0;34m)\u001b[0m\u001b[0;34m\u001b[0m\u001b[0;34m\u001b[0m\u001b[0m\n\u001b[0m\u001b[1;32m   3736\u001b[0m         \u001b[0;32melse\u001b[0m\u001b[0;34m:\u001b[0m\u001b[0;34m\u001b[0m\u001b[0;34m\u001b[0m\u001b[0m\n\u001b[1;32m   3737\u001b[0m             \u001b[0mloc\u001b[0m \u001b[0;34m=\u001b[0m \u001b[0mself\u001b[0m\u001b[0;34m.\u001b[0m\u001b[0mindex\u001b[0m\u001b[0;34m.\u001b[0m\u001b[0mget_loc\u001b[0m\u001b[0;34m(\u001b[0m\u001b[0mkey\u001b[0m\u001b[0;34m)\u001b[0m\u001b[0;34m\u001b[0m\u001b[0;34m\u001b[0m\u001b[0m\n",
      "\u001b[0;32mnone\u001b[0m in \u001b[0;36mg\u001b[0;34m(*args, **kwargs)\u001b[0m\n",
      "\u001b[0;32m/opt/miniconda3/lib/python3.6/site-packages/pandas/core/indexes/multi.py\u001b[0m in \u001b[0;36mget_loc_level\u001b[0;34m(self, key, level, drop_level)\u001b[0m\n\u001b[1;32m   2854\u001b[0m                 \u001b[0;32mreturn\u001b[0m \u001b[0mindexer\u001b[0m\u001b[0;34m,\u001b[0m \u001b[0mmaybe_droplevels\u001b[0m\u001b[0;34m(\u001b[0m\u001b[0mindexer\u001b[0m\u001b[0;34m,\u001b[0m \u001b[0milevels\u001b[0m\u001b[0;34m,\u001b[0m \u001b[0mdrop_level\u001b[0m\u001b[0;34m)\u001b[0m\u001b[0;34m\u001b[0m\u001b[0;34m\u001b[0m\u001b[0m\n\u001b[1;32m   2855\u001b[0m         \u001b[0;32melse\u001b[0m\u001b[0;34m:\u001b[0m\u001b[0;34m\u001b[0m\u001b[0;34m\u001b[0m\u001b[0m\n\u001b[0;32m-> 2856\u001b[0;31m             \u001b[0mindexer\u001b[0m \u001b[0;34m=\u001b[0m \u001b[0mself\u001b[0m\u001b[0;34m.\u001b[0m\u001b[0m_get_level_indexer\u001b[0m\u001b[0;34m(\u001b[0m\u001b[0mkey\u001b[0m\u001b[0;34m,\u001b[0m \u001b[0mlevel\u001b[0m\u001b[0;34m=\u001b[0m\u001b[0mlevel\u001b[0m\u001b[0;34m)\u001b[0m\u001b[0;34m\u001b[0m\u001b[0;34m\u001b[0m\u001b[0m\n\u001b[0m\u001b[1;32m   2857\u001b[0m             \u001b[0;32mreturn\u001b[0m \u001b[0mindexer\u001b[0m\u001b[0;34m,\u001b[0m \u001b[0mmaybe_droplevels\u001b[0m\u001b[0;34m(\u001b[0m\u001b[0mindexer\u001b[0m\u001b[0;34m,\u001b[0m \u001b[0;34m[\u001b[0m\u001b[0mlevel\u001b[0m\u001b[0;34m]\u001b[0m\u001b[0;34m,\u001b[0m \u001b[0mdrop_level\u001b[0m\u001b[0;34m)\u001b[0m\u001b[0;34m\u001b[0m\u001b[0;34m\u001b[0m\u001b[0m\n\u001b[1;32m   2858\u001b[0m \u001b[0;34m\u001b[0m\u001b[0m\n",
      "\u001b[0;32m/opt/miniconda3/lib/python3.6/site-packages/pandas/core/indexes/multi.py\u001b[0m in \u001b[0;36m_get_level_indexer\u001b[0;34m(self, key, level, indexer)\u001b[0m\n\u001b[1;32m   2937\u001b[0m         \u001b[0;32melse\u001b[0m\u001b[0;34m:\u001b[0m\u001b[0;34m\u001b[0m\u001b[0;34m\u001b[0m\u001b[0m\n\u001b[1;32m   2938\u001b[0m \u001b[0;34m\u001b[0m\u001b[0m\n\u001b[0;32m-> 2939\u001b[0;31m             \u001b[0mcode\u001b[0m \u001b[0;34m=\u001b[0m \u001b[0mlevel_index\u001b[0m\u001b[0;34m.\u001b[0m\u001b[0mget_loc\u001b[0m\u001b[0;34m(\u001b[0m\u001b[0mkey\u001b[0m\u001b[0;34m)\u001b[0m\u001b[0;34m\u001b[0m\u001b[0;34m\u001b[0m\u001b[0m\n\u001b[0m\u001b[1;32m   2940\u001b[0m \u001b[0;34m\u001b[0m\u001b[0m\n\u001b[1;32m   2941\u001b[0m             \u001b[0;32mif\u001b[0m \u001b[0mlevel\u001b[0m \u001b[0;34m>\u001b[0m \u001b[0;36m0\u001b[0m \u001b[0;32mor\u001b[0m \u001b[0mself\u001b[0m\u001b[0;34m.\u001b[0m\u001b[0mlexsort_depth\u001b[0m \u001b[0;34m==\u001b[0m \u001b[0;36m0\u001b[0m\u001b[0;34m:\u001b[0m\u001b[0;34m\u001b[0m\u001b[0;34m\u001b[0m\u001b[0m\n",
      "\u001b[0;32mnone\u001b[0m in \u001b[0;36mg\u001b[0;34m(*args, **kwargs)\u001b[0m\n",
      "\u001b[0;32m/opt/miniconda3/lib/python3.6/site-packages/pandas/core/indexes/base.py\u001b[0m in \u001b[0;36mget_loc\u001b[0;34m(self, key, method, tolerance)\u001b[0m\n\u001b[1;32m   2897\u001b[0m                 \u001b[0;32mreturn\u001b[0m \u001b[0mself\u001b[0m\u001b[0;34m.\u001b[0m\u001b[0m_engine\u001b[0m\u001b[0;34m.\u001b[0m\u001b[0mget_loc\u001b[0m\u001b[0;34m(\u001b[0m\u001b[0mkey\u001b[0m\u001b[0;34m)\u001b[0m\u001b[0;34m\u001b[0m\u001b[0;34m\u001b[0m\u001b[0m\n\u001b[1;32m   2898\u001b[0m             \u001b[0;32mexcept\u001b[0m \u001b[0mKeyError\u001b[0m\u001b[0;34m:\u001b[0m\u001b[0;34m\u001b[0m\u001b[0;34m\u001b[0m\u001b[0m\n\u001b[0;32m-> 2899\u001b[0;31m                 \u001b[0;32mreturn\u001b[0m \u001b[0mself\u001b[0m\u001b[0;34m.\u001b[0m\u001b[0m_engine\u001b[0m\u001b[0;34m.\u001b[0m\u001b[0mget_loc\u001b[0m\u001b[0;34m(\u001b[0m\u001b[0mself\u001b[0m\u001b[0;34m.\u001b[0m\u001b[0m_maybe_cast_indexer\u001b[0m\u001b[0;34m(\u001b[0m\u001b[0mkey\u001b[0m\u001b[0;34m)\u001b[0m\u001b[0;34m)\u001b[0m\u001b[0;34m\u001b[0m\u001b[0;34m\u001b[0m\u001b[0m\n\u001b[0m\u001b[1;32m   2900\u001b[0m         \u001b[0mindexer\u001b[0m \u001b[0;34m=\u001b[0m \u001b[0mself\u001b[0m\u001b[0;34m.\u001b[0m\u001b[0mget_indexer\u001b[0m\u001b[0;34m(\u001b[0m\u001b[0;34m[\u001b[0m\u001b[0mkey\u001b[0m\u001b[0;34m]\u001b[0m\u001b[0;34m,\u001b[0m \u001b[0mmethod\u001b[0m\u001b[0;34m=\u001b[0m\u001b[0mmethod\u001b[0m\u001b[0;34m,\u001b[0m \u001b[0mtolerance\u001b[0m\u001b[0;34m=\u001b[0m\u001b[0mtolerance\u001b[0m\u001b[0;34m)\u001b[0m\u001b[0;34m\u001b[0m\u001b[0;34m\u001b[0m\u001b[0m\n\u001b[1;32m   2901\u001b[0m         \u001b[0;32mif\u001b[0m \u001b[0mindexer\u001b[0m\u001b[0;34m.\u001b[0m\u001b[0mndim\u001b[0m \u001b[0;34m>\u001b[0m \u001b[0;36m1\u001b[0m \u001b[0;32mor\u001b[0m \u001b[0mindexer\u001b[0m\u001b[0;34m.\u001b[0m\u001b[0msize\u001b[0m \u001b[0;34m>\u001b[0m \u001b[0;36m1\u001b[0m\u001b[0;34m:\u001b[0m\u001b[0;34m\u001b[0m\u001b[0;34m\u001b[0m\u001b[0m\n",
      "\u001b[0;32mpandas/_libs/index.pyx\u001b[0m in \u001b[0;36mpandas._libs.index.IndexEngine.get_loc\u001b[0;34m()\u001b[0m\n",
      "\u001b[0;32mpandas/_libs/index.pyx\u001b[0m in \u001b[0;36mpandas._libs.index.IndexEngine.get_loc\u001b[0;34m()\u001b[0m\n",
      "\u001b[0;32mpandas/_libs/hashtable_class_helper.pxi\u001b[0m in \u001b[0;36mpandas._libs.hashtable.PyObjectHashTable.get_item\u001b[0;34m()\u001b[0m\n",
      "\u001b[0;32mpandas/_libs/hashtable_class_helper.pxi\u001b[0m in \u001b[0;36mpandas._libs.hashtable.PyObjectHashTable.get_item\u001b[0;34m()\u001b[0m\n",
      "\u001b[0;31mKeyError\u001b[0m: 'ETHEUR 2T'"
     ]
    }
   ],
   "source": [
    "# load appl into the securities list and get the history of all the added securities \n",
    "apl = qb.AddEquity(\"AAPL\")\n",
    "ggl = qb.AddEquity(\"GOOGL\")\n",
    "spy = qb.AddEquity('SPY')\n",
    "\n",
    "DIM = 21 \n",
    "DIY = 12*DIM\n",
    "LOOKBACK = 5*DIY\n",
    "\n",
    "history = qb.History(qb.Securities.Keys, LOOKBACK, Resolution.Daily) \n",
    "apl_df = history.loc[apl.Symbol]\n",
    "ggl_df = history.loc[ggl.Symbol]\n",
    "spy_df = history.loc[spy.Symbol]\n"
   ]
  },
  {
   "cell_type": "code",
   "execution_count": 71,
   "metadata": {},
   "outputs": [],
   "source": [
    "ggl_df = history.xs(ggl.Symbol, drop_level=True).sort_index(ascending=False)\n",
    "period = len(ggl_df)-10\n",
    "rw = MyRollingWindow(period)\n",
    "rw.batch_update(history)\n",
    "ggl_df = rw._df.xs(ggl.Symbol, drop_level=True)"
   ]
  },
  {
   "cell_type": "code",
   "execution_count": 72,
   "metadata": {},
   "outputs": [],
   "source": [
    "# Test 1 \n",
    "lag = 10\n",
    "mom1 = ggl_df.pct_change(-lag).dropna()['close']\n",
    "mom2 = mk_momentum(rw,m=0,n=lag).xs(ggl.Symbol, drop_level=True)['close']\n",
    "# assert and compare \n",
    "assert(np.all(np.abs(mom1[0:len(mom2)] - mom2[0:])  < 1e-12) )\n",
    "assert(mom2.index.nlevels == 1)"
   ]
  },
  {
   "cell_type": "code",
   "execution_count": 90,
   "metadata": {},
   "outputs": [
    {
     "data": {
      "text/plain": [
       "[<matplotlib.lines.Line2D at 0x7ff1d0857470>]"
      ]
     },
     "execution_count": 90,
     "metadata": {},
     "output_type": "execute_result"
    },
    {
     "data": {
      "image/png": "[encoded data removed]",
      "text/plain": [
       "<Figure size 432x288 with 1 Axes>"
      ]
     },
     "metadata": {
      "needs_background": "light"
     },
     "output_type": "display_data"
    }
   ],
   "source": [
    "plt.plot(mom1[0:len(mom2)])\n",
    "plt.plot(mom2, '--r')"
   ]
  },
  {
   "cell_type": "code",
   "execution_count": 123,
   "metadata": {},
   "outputs": [
    {
     "data": {
      "text/plain": [
       "MultiIndex([( 'SPY R735QTJ8XC9X', '2016-02-05'),\n",
       "            ( 'SPY R735QTJ8XC9X', '2016-02-06'),\n",
       "            ( 'SPY R735QTJ8XC9X', '2016-02-09'),\n",
       "            ( 'SPY R735QTJ8XC9X', '2016-02-10'),\n",
       "            ( 'SPY R735QTJ8XC9X', '2016-02-11'),\n",
       "            ( 'SPY R735QTJ8XC9X', '2016-02-12'),\n",
       "            ( 'SPY R735QTJ8XC9X', '2016-02-13'),\n",
       "            ( 'SPY R735QTJ8XC9X', '2016-02-17'),\n",
       "            ( 'SPY R735QTJ8XC9X', '2016-02-18'),\n",
       "            ( 'SPY R735QTJ8XC9X', '2016-02-19'),\n",
       "            ...\n",
       "            ('GOOG T1AZ164W5VTX', '2021-01-23'),\n",
       "            ('GOOG T1AZ164W5VTX', '2021-01-26'),\n",
       "            ('GOOG T1AZ164W5VTX', '2021-01-27'),\n",
       "            ('GOOG T1AZ164W5VTX', '2021-01-28'),\n",
       "            ('GOOG T1AZ164W5VTX', '2021-01-29'),\n",
       "            ('GOOG T1AZ164W5VTX', '2021-01-30'),\n",
       "            ('GOOG T1AZ164W5VTX', '2021-02-02'),\n",
       "            ('GOOG T1AZ164W5VTX', '2021-02-03'),\n",
       "            ('GOOG T1AZ164W5VTX', '2021-02-04'),\n",
       "            ('GOOG T1AZ164W5VTX', '2021-02-05')],\n",
       "           names=['symbol', 'time'], length=3780)"
      ]
     },
     "execution_count": 123,
     "metadata": {},
     "output_type": "execute_result"
    }
   ],
   "source": [
    "history.index"
   ]
  },
  {
   "cell_type": "code",
   "execution_count": 101,
   "metadata": {},
   "outputs": [],
   "source": [
    "# Test 2 \n",
    "lag1 = 10\n",
    "lag2 = 2 \n",
    "mom1 = ggl_df.pct_change(-lag).dropna().shift(-lag2).dropna()['close']\n",
    "mom2 = mk_momentum(rw, m=lag2,n=lag1).xs(ggl.Symbol, drop_level=True)['close']\n",
    "# assert and compare \n",
    "assert(np.all(np.abs(mom1[0:len(mom2)] - mom2[0:])  < 1e-12) )\n",
    "assert(mom2.index.nlevels == 1)"
   ]
  },
  {
   "cell_type": "code",
   "execution_count": 102,
   "metadata": {},
   "outputs": [
    {
     "data": {
      "text/html": [
       "<div>\n",
       "<style scoped>\n",
       "    .dataframe tbody tr th:only-of-type {\n",
       "        vertical-align: middle;\n",
       "    }\n",
       "\n",
       "    .dataframe tbody tr th {\n",
       "        vertical-align: top;\n",
       "    }\n",
       "\n",
       "    .dataframe thead th {\n",
       "        text-align: right;\n",
       "    }\n",
       "</style>\n",
       "<table border=\"1\" class=\"dataframe\">\n",
       "  <thead>\n",
       "    <tr style=\"text-align: right;\">\n",
       "      <th></th>\n",
       "      <th>close</th>\n",
       "      <th>high</th>\n",
       "      <th>low</th>\n",
       "      <th>open</th>\n",
       "      <th>volume</th>\n",
       "    </tr>\n",
       "    <tr>\n",
       "      <th>time</th>\n",
       "      <th></th>\n",
       "      <th></th>\n",
       "      <th></th>\n",
       "      <th></th>\n",
       "      <th></th>\n",
       "    </tr>\n",
       "  </thead>\n",
       "  <tbody>\n",
       "    <tr>\n",
       "      <th>2020-03-26</th>\n",
       "      <td>0.000000</td>\n",
       "      <td>0.000000</td>\n",
       "      <td>0.000000</td>\n",
       "      <td>0.000000</td>\n",
       "      <td>-1.000000</td>\n",
       "    </tr>\n",
       "    <tr>\n",
       "      <th>2020-03-25</th>\n",
       "      <td>-0.065668</td>\n",
       "      <td>-0.038041</td>\n",
       "      <td>-0.047081</td>\n",
       "      <td>-0.053487</td>\n",
       "      <td>-1.000000</td>\n",
       "    </tr>\n",
       "    <tr>\n",
       "      <th>2020-03-24</th>\n",
       "      <td>-0.079562</td>\n",
       "      <td>-0.074272</td>\n",
       "      <td>-0.079545</td>\n",
       "      <td>-0.105733</td>\n",
       "      <td>-1.000000</td>\n",
       "    </tr>\n",
       "    <tr>\n",
       "      <th>2020-03-21</th>\n",
       "      <td>-0.123280</td>\n",
       "      <td>-0.093739</td>\n",
       "      <td>-0.104881</td>\n",
       "      <td>-0.113659</td>\n",
       "      <td>-1.000000</td>\n",
       "    </tr>\n",
       "    <tr>\n",
       "      <th>2020-03-20</th>\n",
       "      <td>-0.094968</td>\n",
       "      <td>-0.110034</td>\n",
       "      <td>-0.097898</td>\n",
       "      <td>-0.140578</td>\n",
       "      <td>-1.000000</td>\n",
       "    </tr>\n",
       "    <tr>\n",
       "      <th>...</th>\n",
       "      <td>...</td>\n",
       "      <td>...</td>\n",
       "      <td>...</td>\n",
       "      <td>...</td>\n",
       "      <td>...</td>\n",
       "    </tr>\n",
       "    <tr>\n",
       "      <th>2016-03-15</th>\n",
       "      <td>0.004211</td>\n",
       "      <td>0.009650</td>\n",
       "      <td>0.014133</td>\n",
       "      <td>0.006723</td>\n",
       "      <td>0.190025</td>\n",
       "    </tr>\n",
       "    <tr>\n",
       "      <th>2016-03-12</th>\n",
       "      <td>0.006270</td>\n",
       "      <td>0.006974</td>\n",
       "      <td>0.015283</td>\n",
       "      <td>0.006192</td>\n",
       "      <td>0.065746</td>\n",
       "    </tr>\n",
       "    <tr>\n",
       "      <th>2016-03-11</th>\n",
       "      <td>-0.005173</td>\n",
       "      <td>-0.011442</td>\n",
       "      <td>-0.016251</td>\n",
       "      <td>-0.024391</td>\n",
       "      <td>0.166458</td>\n",
       "    </tr>\n",
       "    <tr>\n",
       "      <th>2016-03-10</th>\n",
       "      <td>-0.022258</td>\n",
       "      <td>-0.010410</td>\n",
       "      <td>-0.025336</td>\n",
       "      <td>-0.007153</td>\n",
       "      <td>0.715142</td>\n",
       "    </tr>\n",
       "    <tr>\n",
       "      <th>2016-03-09</th>\n",
       "      <td>0.011261</td>\n",
       "      <td>0.015123</td>\n",
       "      <td>0.017545</td>\n",
       "      <td>0.024877</td>\n",
       "      <td>0.418296</td>\n",
       "    </tr>\n",
       "  </tbody>\n",
       "</table>\n",
       "<p>1020 rows × 5 columns</p>\n",
       "</div>"
      ],
      "text/plain": [
       "               close      high       low      open    volume\n",
       "time                                                        \n",
       "2020-03-26  0.000000  0.000000  0.000000  0.000000 -1.000000\n",
       "2020-03-25 -0.065668 -0.038041 -0.047081 -0.053487 -1.000000\n",
       "2020-03-24 -0.079562 -0.074272 -0.079545 -0.105733 -1.000000\n",
       "2020-03-21 -0.123280 -0.093739 -0.104881 -0.113659 -1.000000\n",
       "2020-03-20 -0.094968 -0.110034 -0.097898 -0.140578 -1.000000\n",
       "...              ...       ...       ...       ...       ...\n",
       "2016-03-15  0.004211  0.009650  0.014133  0.006723  0.190025\n",
       "2016-03-12  0.006270  0.006974  0.015283  0.006192  0.065746\n",
       "2016-03-11 -0.005173 -0.011442 -0.016251 -0.024391  0.166458\n",
       "2016-03-10 -0.022258 -0.010410 -0.025336 -0.007153  0.715142\n",
       "2016-03-09  0.011261  0.015123  0.017545  0.024877  0.418296\n",
       "\n",
       "[1020 rows x 5 columns]"
      ]
     },
     "execution_count": 102,
     "metadata": {},
     "output_type": "execute_result"
    }
   ],
   "source": [
    "ggl_df.pct_change(-lag1).shift(-lag2).dropna()"
   ]
  },
  {
   "cell_type": "code",
   "execution_count": 103,
   "metadata": {},
   "outputs": [
    {
     "data": {
      "text/plain": [
       "time\n",
       "2020-03-24   -0.079562\n",
       "2020-03-21   -0.123280\n",
       "2020-03-20   -0.094968\n",
       "2020-03-19   -0.126934\n",
       "2020-03-18   -0.096656\n",
       "                ...   \n",
       "2016-03-15    0.004211\n",
       "2016-03-12    0.006270\n",
       "2016-03-11   -0.005173\n",
       "2016-03-10   -0.022258\n",
       "2016-03-09    0.011261\n",
       "Name: close, Length: 1018, dtype: float64"
      ]
     },
     "execution_count": 103,
     "metadata": {},
     "output_type": "execute_result"
    }
   ],
   "source": [
    "mom2"
   ]
  },
  {
   "cell_type": "code",
   "execution_count": 104,
   "metadata": {},
   "outputs": [],
   "source": [
    "# test 3  Sigma\n",
    "window = 10 \n",
    "sig1 = ggl_df['close'].rolling(window).std().shift(-window+1).dropna()\n",
    "sig2 = mk_sigma(rw, window).xs(ggl.Symbol, drop_level=True)['close']\n",
    "# manual computation of the first element \n",
    "sig3 = ggl_df['close'][0:window].std()\n",
    "sig3 == sig1[0]\n",
    "assert(np.all(np.abs(sig1[0:len(sig2)] -sig2[0:]) < 1e-12 ) )\n",
    "assert(np.abs(sig1[0] - sig3) < 1e-12 and np.abs(sig2[0] - sig3) < 1e-12)\n",
    "assert(sig2.index.nlevels == 1)\n"
   ]
  },
  {
   "cell_type": "code",
   "execution_count": null,
   "metadata": {},
   "outputs": [],
   "source": []
  },
  {
   "cell_type": "code",
   "execution_count": 106,
   "metadata": {},
   "outputs": [],
   "source": [
    "tbs = []\n",
    "for bar in history.itertuples():\n",
    "    tbs = tbs + [TradeBar(bar.Index[1], bar.Index[0],\n",
    "                        bar.open,\n",
    "                        bar.high, \n",
    "                        bar.low,\n",
    "                        bar.close,\n",
    "                        bar.volume)]"
   ]
  },
  {
   "cell_type": "code",
   "execution_count": 107,
   "metadata": {},
   "outputs": [],
   "source": [
    "def mk_dataframe(symbols, time, bar):\n",
    "    \"\"\"\n",
    "    transform a dictionary of bar data into pandas dataframe \n",
    "    \"\"\"\n",
    "    df = pd.DataFrame(columns = [\"close\", \"high\" ,\"low\" ,\"open\", \"volume\"])\n",
    "    for symbol in symbols: \n",
    "        _ = bar[symbol]\n",
    "        _ = pd.DataFrame({\"close\" : [_.Close], \"high\":[_.High], \n",
    "                      \"low\":[_.Low], \"open\" :[_.Open], \"volume\" :[ _.Volume]})\n",
    "        df = pd.concat([df,_], ignore_index = True)\n",
    "    \n",
    "    midx = pd.MultiIndex.from_product([symbols,[time]], names = [\"symbol\",\"time\"]) \n",
    "    df.index = midx \n",
    "    return df \n"
   ]
  },
  {
   "cell_type": "code",
   "execution_count": 108,
   "metadata": {},
   "outputs": [],
   "source": [
    "barD = {}\n",
    "barD[tbs[0].Symbol.__str__()] = tbs[0]\n",
    "barD[tbs[1500].Symbol.__str__()] = tbs[1500]\n",
    "barD[tbs[-1].Symbol.__str__()] = tbs[-1]\n"
   ]
  },
  {
   "cell_type": "code",
   "execution_count": 109,
   "metadata": {},
   "outputs": [],
   "source": [
    "symbols = ['SPY', 'GOOGL', 'AAPL']\n",
    "df = mk_dataframe(symbols, datetime(2020,1,1), barD)"
   ]
  },
  {
   "cell_type": "code",
   "execution_count": 113,
   "metadata": {},
   "outputs": [
    {
     "data": {
      "text/plain": [
       "184.334685696"
      ]
     },
     "execution_count": 113,
     "metadata": {},
     "output_type": "execute_result"
    }
   ],
   "source": [
    "tbs[0].High"
   ]
  },
  {
   "cell_type": "code",
   "execution_count": 114,
   "metadata": {},
   "outputs": [
    {
     "name": "stdout",
     "output_type": "stream",
     "text": [
      "183.19658112\n",
      "1210.68\n",
      "117.140243616\n"
     ]
    }
   ],
   "source": [
    "print(barD['SPY'].Close)\n",
    "print(barD['GOOGL'].Close)\n",
    "print(barD['AAPL'].Close)\n"
   ]
  },
  {
   "cell_type": "code",
   "execution_count": null,
   "metadata": {},
   "outputs": [],
   "source": [
    "# Multiindex HOWTOs\n",
    "\n",
    "https://pandas.pydata.org/pandas-docs/stable/user_guide/advanced.html#advanced-indexing-with-hierarchical-index\n",
    "\n",
    "1. How to create a multiindex ? \n",
    "```\n",
    "    multi_index = pd.MultiIndex.from_product([symbols, time], names= ['symbol','time'])\n",
    "```\n",
    "\n",
    "2. How to iterate over a multiindex: \n",
    "\n",
    "```\n",
    "    df.loc[(lev1, lev2..., levn), <colnames> ]\n",
    "``` \n",
    "\n",
    "or simply \n",
    "```\n",
    "    df[(lev1, lev2..., levn), <colnames> ]\n",
    "``` \n",
    "\n",
    "You can also use slices \n",
    "```\n",
    "   googl_df = df.loc[(googl.Symbol,slice(None)),:]\n",
    "```\n",
    "and dropping the symbol index goes as follows: \n",
    "```\n",
    "    idx = googl_df.index.droplevel('symbol')\n",
    "    googl_df.index = idx\n",
    "```\n",
    "\n",
    "Equivalenetly, you can use the `xs` (Cross section) function \n",
    "```\n",
    "    googl_df  = df.xs(googl.Symbol, drop_level= True)\n",
    "```\n"
   ]
  },
  {
   "cell_type": "markdown",
   "metadata": {},
   "source": [
    "# Computing the momentum \n",
    "\n",
    "using the above MyRollingWin implementation, computing the momentum, defined by the formula: \n",
    "\n",
    "$$ \\mu_t = \\frac{p_{t-m}-p_{t-y}}{p_{t-y}},$$\n",
    "\n",
    "is a simple as \n",
    "```py \n",
    "    rw = MyRollingWin(LOOKBACK)\n",
    "    rw.batch_update(history)\n",
    "    # compute the returns now with respect to DIY trading periods ago and shift DIM\n",
    "    # days back to get the returns 1 month ago now\n",
    "    momentum = rw.returns(DIY).groupby(level='symbol').shift(-DIM).dropna()\n",
    "```\n",
    "\n",
    "\n",
    "where $m$ is the number of trading days in a month (21) and $y$\n",
    "is the number of trading days in a year ($12\\times 21=252$). In\n",
    "addition, the price changes over the last month can be taken \n",
    "into account to temper the expectations for future movement of an asset via the formula \n",
    "\n",
    "$$ \\mu_t = \\left( \\frac{p_{t-m}-p_{t-y}}{p_{t-y}} - \n",
    "\\frac{p_{t-1}-p_{t-m}}{p_{t-m}} \\right )/\\sigma_{r_t},$$\n",
    "\n",
    "Notice here that we have normalized by the statistical\n",
    "estimate of  the volatility in the returns of the asset \n",
    "in question, \n",
    "$\\sigma_{r_t}$, in order to put less weight on highly volatile\n",
    "securities.\n"
   ]
  },
  {
   "cell_type": "code",
   "execution_count": null,
   "metadata": {},
   "outputs": [],
   "source": []
  }
 ],
 "metadata": {
  "kernelspec": {
   "display_name": "Python 3",
   "language": "python",
   "name": "python3"
  },
  "language_info": {
   "codemirror_mode": {
    "name": "ipython",
    "version": 3
   },
   "file_extension": ".py",
   "mimetype": "text/x-python",
   "name": "python",
   "nbconvert_exporter": "python",
   "pygments_lexer": "ipython3",
   "version": "3.6.8"
  }
 },
 "nbformat": 4,
 "nbformat_minor": 4
}
